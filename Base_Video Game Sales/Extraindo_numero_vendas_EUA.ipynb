{
 "cells": [
  {
   "cell_type": "code",
   "execution_count": 60,
   "id": "22c86639",
   "metadata": {},
   "outputs": [
    {
     "data": {
      "image/png": "[encoded data removed]",
      "text/plain": [
       "<Figure size 432x288 with 1 Axes>"
      ]
     },
     "metadata": {
      "needs_background": "light"
     },
     "output_type": "display_data"
    }
   ],
   "source": [
    "import pandas as pd\n",
    "import numpy as np\n",
    "import matplotlib.pyplot as plt\n",
    "\n",
    "colunas = [\"NA_Sales\", \"Platform\"]\n",
    "url = ('vgsales.csv')\n",
    "df = pd.DataFrame(pd.read_csv(url, usecols = colunas))\n",
    "\n",
    "plat = df['Platform'].to_list()\n",
    "vlr = df['NA_Sales'].to_list()\n",
    "\n",
    "plataforma = np.unique(plat)\n",
    "\n",
    "soma_vendas = []\n",
    "for item in plataforma:\n",
    "    valor = 0\n",
    "    for i, plt_f in enumerate(plat):\n",
    "        if item == plt_f:\n",
    "            valor += vlr[i]\n",
    "    lista = (float(valor),item)        \n",
    "    soma_vendas.append(lista)\n",
    "    \n",
    "\n",
    "soma_vendas_ordenada = sorted(soma_vendas)\n",
    "soma_vendas_top5 = soma_vendas_ordenada[len(soma_vendas_ordenada)-5:len(soma_vendas_ordenada)]\n",
    "\n",
    "eixo_x = [platf for vendas, platf in soma_vendas_top5]\n",
    "eixo_y = [vendas for vendas, platf in soma_vendas_top5]\n",
    "\n",
    "\n",
    "plt.bar(eixo_x,eixo_y)\n",
    "plt.show()"
   ]
  }
 ],
 "metadata": {
  "kernelspec": {
   "display_name": "Python 3 (ipykernel)",
   "language": "python",
   "name": "python3"
  },
  "language_info": {
   "codemirror_mode": {
    "name": "ipython",
    "version": 3
   },
   "file_extension": ".py",
   "mimetype": "text/x-python",
   "name": "python",
   "nbconvert_exporter": "python",
   "pygments_lexer": "ipython3",
   "version": "3.9.12"
  }
 },
 "nbformat": 4,
 "nbformat_minor": 5
}
