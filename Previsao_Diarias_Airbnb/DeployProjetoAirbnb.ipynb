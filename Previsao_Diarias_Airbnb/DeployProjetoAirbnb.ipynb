{
 "cells": [
  {
   "cell_type": "code",
   "execution_count": 4,
   "id": "a8e9e67e",
   "metadata": {},
   "outputs": [],
   "source": [
    "import pandas as pd\n",
    "import streamlit as st\n",
    "import joblib \n",
    "\n",
    "#modelo = joblib.load('modelo.joblib')"
   ]
  },
  {
   "cell_type": "markdown",
   "id": "b1ef28af",
   "metadata": {},
   "source": [
    "### Construir campos que serão preenchidos"
   ]
  },
  {
   "cell_type": "code",
   "execution_count": 6,
   "id": "e89abe5c",
   "metadata": {},
   "outputs": [],
   "source": [
    "#características numéricas\n",
    "x_numericos = {'latitude': 0, 'longitude': 0, 'accommodates': 0, 'bathrooms': 0, 'bedrooms': 0, 'beds': 0, 'extra_people': 0,\n",
    "               'minimum_nights': 0, 'ano': 0, 'mes': 0, 'n_amenities': 0, 'host_listings_count': 0}\n",
    "\n",
    "#características de verdadeiro ou falso\n",
    "x_tf = {'host_is_superhost': 0, 'instant_bookable': 0}\n",
    "\n",
    "\n",
    "#características de lista\n",
    "x_listas = {'property_type': ['Apartment', 'Bed and breakfast', 'Condominium', 'Guest suite', 'Guesthouse', 'Hostel', 'House', 'Loft', 'Outros', 'Serviced apartment'],\n",
    "            'room_type': ['Entire home/apt', 'Hotel room', 'Private room', 'Shared room'],\n",
    "            'cancelation_policy': ['flexible', 'moderate', 'strict', 'strict_14_with_grace_period']\n",
    "            }\n",
    "dicionario = {}\n",
    "for item in x_listas:\n",
    "    for valor in x_listas[item]:\n",
    "        dicionario[f'{item}_{valor}'] = 0"
   ]
  },
  {
   "cell_type": "code",
   "execution_count": 5,
   "id": "64a4ce6c",
   "metadata": {},
   "outputs": [
    {
     "name": "stderr",
     "output_type": "stream",
     "text": [
      "2022-06-28 21:32:13.169 \n",
      "  \u001b[33m\u001b[1mWarning:\u001b[0m to view this Streamlit app on a browser, run it with the following\n",
      "  command:\n",
      "\n",
      "    streamlit run C:\\Users\\Casa\\anaconda3\\lib\\site-packages\\ipykernel_launcher.py [ARGUMENTS]\n"
     ]
    }
   ],
   "source": [
    "for item in x_numericos:\n",
    "    \n",
    "    if item == 'latitude' or item == 'longitude':\n",
    "        valor = st.number_input(f'{item}', step=0.00001, value=0.00000, format=\"%.5f\")\n",
    "    elif item == 'extra_people':\n",
    "        valor = st.number_input(f'{item}', step=0.01, value=0.00)\n",
    "    else:\n",
    "        valor = st.number_input(f'{item}', step=1, value=0)\n",
    "    x_numericos[item] = valor\n",
    "    \n",
    "for item in x_tf:\n",
    "    valor = st.selectbox(f'{item}', ('Sim', 'Não'))\n",
    "    \n",
    "    if valor == 'Sim':\n",
    "        x_tf[item] = 1\n",
    "    else:\n",
    "        x_tf[item] = 0\n",
    "    \n",
    "for item in x_listas:\n",
    "    valor = st.selectbox(f'{item}', x_listas[item])"
   ]
  },
  {
   "cell_type": "code",
   "execution_count": 9,
   "id": "6f3afd40",
   "metadata": {},
   "outputs": [],
   "source": [
    "botao = st.button('Prever Valor do Imóvel')\n",
    "\n",
    "if botao:\n",
    "    dicionario.update(x_numericos)\n",
    "    dicionario.update(x_tf)\n",
    "    valores_x = pd.DataFrame(dicionario, index=[0])\n",
    "    modelo = joblib.load('modelo.joblib')\n",
    "    preco = modelo.predict(valores_x)\n",
    "    st.write(preco[0])"
   ]
  }
 ],
 "metadata": {
  "kernelspec": {
   "display_name": "Python 3 (ipykernel)",
   "language": "python",
   "name": "python3"
  },
  "language_info": {
   "codemirror_mode": {
    "name": "ipython",
    "version": 3
   },
   "file_extension": ".py",
   "mimetype": "text/x-python",
   "name": "python",
   "nbconvert_exporter": "python",
   "pygments_lexer": "ipython3",
   "version": "3.9.12"
  }
 },
 "nbformat": 4,
 "nbformat_minor": 5
}
