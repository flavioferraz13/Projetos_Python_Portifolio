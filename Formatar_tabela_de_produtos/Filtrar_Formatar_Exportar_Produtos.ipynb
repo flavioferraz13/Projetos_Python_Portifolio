{
 "cells": [
  {
   "cell_type": "code",
   "execution_count": 1,
   "id": "5578ee81",
   "metadata": {},
   "outputs": [],
   "source": [
    "import pandas as pd\n",
    "\n",
    "produtos_df = pd.read_excel(r'Catálogo Fabuloso Shop.xlsx')\n",
    "\n",
    "categoria_df = produtos_df['Categoria'].str.split(pat='>', expand=True)\n",
    "\n",
    "categoria_df = categoria_df.rename(columns={0:'categoria_nivel1', 1:'categoria_nivel2',2:'categoria_nivel3'})"
   ]
  },
  {
   "cell_type": "code",
   "execution_count": 2,
   "id": "f469e3eb",
   "metadata": {},
   "outputs": [],
   "source": [
    "produtos_df['categoria_nivel1'] = categoria_df['categoria_nivel1']\n",
    "produtos_df['categoria_nivel2'] = categoria_df['categoria_nivel2']\n",
    "produtos_df['categoria_nivel3'] = categoria_df['categoria_nivel3']\n",
    "#del produtos_df['Categoria']"
   ]
  },
  {
   "cell_type": "code",
   "execution_count": 3,
   "id": "4927e98e",
   "metadata": {},
   "outputs": [],
   "source": [
    "produtos_filtrada = produtos_df[['SKU - Código', 'Nome','Variação', 'Marca', 'Estoque', 'P. Venda', 'Peso (Kg)', 'Altura (cm)', 'Largura (cm)', 'Comprimento (cm)', 'NCM', 'categoria_nivel1', 'categoria_nivel2', 'categoria_nivel3']]\n",
    "\n",
    "produtos_filtrada = produtos_filtrada[produtos_filtrada['Estoque'] > 50]\n",
    "\n",
    "produtos_Atlhetica_Nutrition = produtos_filtrada[(produtos_filtrada['Marca'] == 'Atlhetica Nutrition')]"
   ]
  },
  {
   "cell_type": "code",
   "execution_count": 4,
   "id": "55babb99",
   "metadata": {},
   "outputs": [
    {
     "name": "stdout",
     "output_type": "stream",
     "text": [
      "<class 'pandas.core.frame.DataFrame'>\n",
      "Int64Index: 11 entries, 4 to 191\n",
      "Data columns (total 32 columns):\n",
      " #   Column                Non-Null Count  Dtype  \n",
      "---  ------                --------------  -----  \n",
      " 0   codigo                11 non-null     int64  \n",
      " 1   codigo_pai            0 non-null      object \n",
      " 2   produto               11 non-null     object \n",
      " 3   cor                   0 non-null      object \n",
      " 4   variacao_nome         11 non-null     object \n",
      " 5   tamanho_variacao      0 non-null      object \n",
      " 6   valor                 11 non-null     float64\n",
      " 7   valor_promocional     0 non-null      object \n",
      " 8   valor_atacado         0 non-null      object \n",
      " 9   preco_custo           0 non-null      object \n",
      " 10  quantidade_estoque    11 non-null     float64\n",
      " 11  peso_kg               11 non-null     object \n",
      " 12  categoria_nivel1      11 non-null     object \n",
      " 13  categoria_nivel2      11 non-null     object \n",
      " 14  categoria_nivel3      0 non-null      object \n",
      " 15  caracteristicas       0 non-null      object \n",
      " 16  descricao             0 non-null      object \n",
      " 17  garantia              0 non-null      object \n",
      " 18  comprimento_cm        11 non-null     int64  \n",
      " 19  largura_cm            11 non-null     int64  \n",
      " 20  altura_cm             11 non-null     int64  \n",
      " 21  ncm                   10 non-null     object \n",
      " 22  gtin                  0 non-null      object \n",
      " 23  marca                 11 non-null     object \n",
      " 24  prazo_producao        0 non-null      object \n",
      " 25  palavras_substitutas  0 non-null      object \n",
      " 26  imagem1               0 non-null      object \n",
      " 27  imagem2               0 non-null      object \n",
      " 28  imagem3               0 non-null      object \n",
      " 29  imagem4               0 non-null      object \n",
      " 30  imagem5               0 non-null      object \n",
      " 31  video_youtube         0 non-null      object \n",
      "dtypes: float64(2), int64(4), object(26)\n",
      "memory usage: 2.8+ KB\n"
     ]
    }
   ],
   "source": [
    "modelo_wbuy_df = pd.read_excel(r'modelo-wbuy.xlsx')\n",
    "\n",
    "modelo_wbuy_df['codigo'] = produtos_Atlhetica_Nutrition['SKU - Código']\n",
    "modelo_wbuy_df['produto'] = produtos_Atlhetica_Nutrition['Nome']\n",
    "modelo_wbuy_df['variacao_nome'] = produtos_Atlhetica_Nutrition['Variação']\n",
    "modelo_wbuy_df['valor'] = produtos_Atlhetica_Nutrition['P. Venda']\n",
    "modelo_wbuy_df['quantidade_estoque'] = produtos_Atlhetica_Nutrition['Estoque']\n",
    "modelo_wbuy_df['peso_kg'] = produtos_Atlhetica_Nutrition['Peso (Kg)']\n",
    "modelo_wbuy_df['categoria_nivel1'] = produtos_Atlhetica_Nutrition['categoria_nivel1']\n",
    "modelo_wbuy_df['categoria_nivel2'] = produtos_Atlhetica_Nutrition['categoria_nivel2']\n",
    "modelo_wbuy_df['categoria_nivel3'] = produtos_Atlhetica_Nutrition['categoria_nivel3']\n",
    "modelo_wbuy_df['comprimento_cm'] = produtos_Atlhetica_Nutrition['Comprimento (cm)']\n",
    "modelo_wbuy_df['largura_cm'] = produtos_Atlhetica_Nutrition['Largura (cm)']\n",
    "modelo_wbuy_df['altura_cm'] = produtos_Atlhetica_Nutrition['Altura (cm)']\n",
    "modelo_wbuy_df['ncm'] = produtos_Atlhetica_Nutrition['NCM']\n",
    "modelo_wbuy_df['marca'] = produtos_Atlhetica_Nutrition['Marca']\n",
    "#display(produtos_Atlhetica_Nutrition)\n",
    "#display(modelo_wbuy_df)\n",
    "\n",
    "modelo_wbuy_df.info()"
   ]
  },
  {
   "cell_type": "code",
   "execution_count": 5,
   "id": "2acdbb49",
   "metadata": {},
   "outputs": [],
   "source": [
    "#modelo_wbuy_df.to_csv(\"modelo_formatado.csv\", sep=';', encoding='latin1')"
   ]
  }
 ],
 "metadata": {
  "kernelspec": {
   "display_name": "Python 3 (ipykernel)",
   "language": "python",
   "name": "python3"
  },
  "language_info": {
   "codemirror_mode": {
    "name": "ipython",
    "version": 3
   },
   "file_extension": ".py",
   "mimetype": "text/x-python",
   "name": "python",
   "nbconvert_exporter": "python",
   "pygments_lexer": "ipython3",
   "version": "3.9.12"
  }
 },
 "nbformat": 4,
 "nbformat_minor": 5
}
